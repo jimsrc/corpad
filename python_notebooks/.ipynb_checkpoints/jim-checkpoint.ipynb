{
 "cells": [
  {
   "cell_type": "code",
   "execution_count": 4,
   "metadata": {
    "collapsed": true
   },
   "outputs": [],
   "source": [
    "import ipy_table as it"
   ]
  },
  {
   "cell_type": "code",
   "execution_count": 5,
   "metadata": {
    "collapsed": true
   },
   "outputs": [],
   "source": [
    "planets = [\n",
    "    ['Planets', 'uno', 'dos'],\n",
    "    ['venus', 88.9, 77],\n",
    "    ['maRs', 56.2, '---']\n",
    "]"
   ]
  },
  {
   "cell_type": "code",
   "execution_count": 6,
   "metadata": {
    "collapsed": false
   },
   "outputs": [
    {
     "data": {
      "text/html": [
       "<table border=\"1\" cellpadding=\"3\" cellspacing=\"0\"  style=\"border:1px solid black;border-collapse:collapse;\"><tr><td  style=\"background-color:LightGray;\"><b>Planets</b></td><td  style=\"background-color:LightGray;\"><b>uno</b></td><td  style=\"background-color:LightGray;\"><b>dos</b></td></tr><tr><td  style=\"background-color:Ivory;\">venus</td><td  style=\"background-color:Ivory;\">8.890E+01</td><td  style=\"background-color:Ivory;\">77</td></tr><tr><td  style=\"background-color:AliceBlue;\">maRs</td><td  style=\"background-color:AliceBlue;\">5.620E+01</td><td  style=\"background-color:AliceBlue;\">---</td></tr>"
      ],
      "text/plain": [
       "<IPython.core.display.HTML object>"
      ]
     },
     "execution_count": 6,
     "metadata": {},
     "output_type": "execute_result"
    }
   ],
   "source": [
    "it.make_table(planets)\n",
    "it.apply_theme('basic')\n",
    "it.set_global_style(float_format='%0.3E')"
   ]
  }
 ],
 "metadata": {
  "kernelspec": {
   "display_name": "Python 2",
   "language": "python",
   "name": "python2"
  },
  "language_info": {
   "codemirror_mode": {
    "name": "ipython",
    "version": 2
   },
   "file_extension": ".py",
   "mimetype": "text/x-python",
   "name": "python",
   "nbconvert_exporter": "python",
   "pygments_lexer": "ipython2",
   "version": "2.7.10"
  }
 },
 "nbformat": 4,
 "nbformat_minor": 0
}
